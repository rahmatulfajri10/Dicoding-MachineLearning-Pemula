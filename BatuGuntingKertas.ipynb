{
  "nbformat": 4,
  "nbformat_minor": 0,
  "metadata": {
    "colab": {
      "name": "BatuGuntingKertas.ipynb",
      "provenance": [],
      "collapsed_sections": []
    },
    "kernelspec": {
      "name": "python3",
      "display_name": "Python 3"
    },
    "language_info": {
      "name": "python"
    }
  },
  "cells": [
    {
      "cell_type": "code",
      "metadata": {
        "id": "XW_zOXPi2xHj"
      },
      "source": [
        "#Rahmatul Fajri\n",
        "#Mahasiswa S1 Teknik Informatika\n",
        "#Universitas Pertahanan"
      ],
      "execution_count": 1,
      "outputs": []
    },
    {
      "cell_type": "code",
      "metadata": {
        "colab": {
          "base_uri": "https://localhost:8080/"
        },
        "id": "aV8KEnfjcPPD",
        "outputId": "f6713796-e4cc-40ea-fd3c-c9036a967af7"
      },
      "source": [
        " !wget --no-check-certificate \\\n",
        "  https://dicodingacademy.blob.core.windows.net/picodiploma/ml_pemula_academy/rockpaperscissors.zip"
      ],
      "execution_count": 2,
      "outputs": [
        {
          "output_type": "stream",
          "text": [
            "--2021-06-29 06:26:49--  https://dicodingacademy.blob.core.windows.net/picodiploma/ml_pemula_academy/rockpaperscissors.zip\n",
            "Resolving dicodingacademy.blob.core.windows.net (dicodingacademy.blob.core.windows.net)... 52.239.197.36\n",
            "Connecting to dicodingacademy.blob.core.windows.net (dicodingacademy.blob.core.windows.net)|52.239.197.36|:443... connected.\n",
            "HTTP request sent, awaiting response... 200 OK\n",
            "Length: 322873683 (308M) [application/zip]\n",
            "Saving to: ‘rockpaperscissors.zip’\n",
            "\n",
            "rockpaperscissors.z 100%[===================>] 307.92M  8.06MB/s    in 77s     \n",
            "\n",
            "2021-06-29 06:28:07 (3.99 MB/s) - ‘rockpaperscissors.zip’ saved [322873683/322873683]\n",
            "\n"
          ],
          "name": "stdout"
        }
      ]
    },
    {
      "cell_type": "code",
      "metadata": {
        "id": "7ZWjAz4FdE8T"
      },
      "source": [
        "import os\n",
        "import zipfile\n",
        "lcl_zip = '/content/rockpaperscissors.zip'\n",
        "zip_ref = zipfile.ZipFile(lcl_zip, 'r')\n",
        "zip_ref.extractall('/content/')\n",
        "zip_ref.close()"
      ],
      "execution_count": 4,
      "outputs": []
    },
    {
      "cell_type": "code",
      "metadata": {
        "colab": {
          "base_uri": "https://localhost:8080/"
        },
        "id": "20BvqKa2grvs",
        "outputId": "70696ac3-a03f-410a-bc38-f015ef56ec29"
      },
      "source": [
        "#cek jumlah total dari gambar\n",
        "import os\n",
        "_gunting = os.path.join('/content/rockpaperscissors/scissors')\n",
        "_batu = os.path.join('/content/rockpaperscissors/rock')\n",
        "_kertas = os.path.join('/content/rockpaperscissors/paper')\n",
        "\n",
        "print('Banyaknya gambar gunting:\\t', len(os.listdir(_gunting)))\n",
        "print('Banyaknya gambar batu:\\t', len(os.listdir(_batu)))\n",
        "print('Banyaknya gambar kertas:\\t', len(os.listdir(_kertas)))"
      ],
      "execution_count": 5,
      "outputs": [
        {
          "output_type": "stream",
          "text": [
            "Banyaknya gambar gunting:\t 750\n",
            "Banyaknya gambar batu:\t 726\n",
            "Banyaknya gambar kertas:\t 712\n"
          ],
          "name": "stdout"
        }
      ]
    },
    {
      "cell_type": "code",
      "metadata": {
        "id": "UwbIVREQhwNB"
      },
      "source": [
        "#image generator\n",
        "import tensorflow as tf\n",
        "import keras_preprocessing\n",
        "from keras_preprocessing import image\n",
        "from keras_preprocessing.image import ImageDataGenerator\n",
        "BASIS_DIR = '/content/rockpaperscissors/rps-cv-images'\n",
        "training_datagenerator = ImageDataGenerator(\n",
        "    rescale = 1./255,\n",
        "    rotation_range=40,\n",
        "    width_shift_range = 0.2,\n",
        "    height_shift_range = 0.2,\n",
        "    shear_range = 0.2,\n",
        "    zoom_range = 0.2,\n",
        "    horizontal_flip=True,\n",
        "    fill_mode='nearest',\n",
        "    validation_split = 0.4\n",
        ")"
      ],
      "execution_count": 22,
      "outputs": []
    },
    {
      "cell_type": "code",
      "metadata": {
        "colab": {
          "base_uri": "https://localhost:8080/"
        },
        "id": "fF03PIStlecH",
        "outputId": "ec4f39cb-0f77-46eb-c518-da530a5628dc"
      },
      "source": [
        "train_generator = training_datagenerator.flow_from_directory(\n",
        "  BASIS_DIR,\n",
        "  target_size=(150,150),\n",
        "  class_mode = 'categorical',\n",
        "  shuffle=True,\n",
        "  subset='training'\n",
        ")\n",
        "\n",
        "validation_generator = training_datagenerator.flow_from_directory(\n",
        "  BASIS_DIR,\n",
        "  target_size=(150,150),\n",
        "  class_mode = 'categorical',\n",
        "  shuffle=True,\n",
        "  subset='validation'\n",
        ")"
      ],
      "execution_count": 23,
      "outputs": [
        {
          "output_type": "stream",
          "text": [
            "Found 1314 images belonging to 3 classes.\n",
            "Found 874 images belonging to 3 classes.\n"
          ],
          "name": "stdout"
        }
      ]
    },
    {
      "cell_type": "code",
      "metadata": {
        "colab": {
          "base_uri": "https://localhost:8080/"
        },
        "id": "MprpnlBknEpu",
        "outputId": "5f85bb0b-e1d3-4015-f72e-0bbe44285c0c"
      },
      "source": [
        "#Membangun model Squential\n",
        "model = tf.keras.models.Sequential([\n",
        "  tf.keras.layers.Conv2D(16,(3,3), activation='relu', input_shape=(150, 150, 3)),\n",
        "  tf.keras.layers.MaxPooling2D(2,2),\n",
        "\n",
        "  tf.keras.layers.Conv2D(32, (3,3), activation='relu'),\n",
        "  tf.keras.layers.MaxPooling2D(2,2),\n",
        "\n",
        "  tf.keras.layers.Conv2D(32, (3,3), activation='relu'),\n",
        "  tf.keras.layers.MaxPooling2D(2,2),\n",
        "\n",
        "  tf.keras.layers.Flatten(),\n",
        "  tf.keras.layers.Dropout(0.5),\n",
        "\n",
        "  tf.keras.layers.Dense(128, activation='relu'),\n",
        "  tf.keras.layers.Dense(512, activation='relu'),\n",
        "  tf.keras.layers.Dense(3, activation='softmax')\n",
        "])\n",
        "model.summary()"
      ],
      "execution_count": 24,
      "outputs": [
        {
          "output_type": "stream",
          "text": [
            "Model: \"sequential_2\"\n",
            "_________________________________________________________________\n",
            "Layer (type)                 Output Shape              Param #   \n",
            "=================================================================\n",
            "conv2d_6 (Conv2D)            (None, 148, 148, 16)      448       \n",
            "_________________________________________________________________\n",
            "max_pooling2d_6 (MaxPooling2 (None, 74, 74, 16)        0         \n",
            "_________________________________________________________________\n",
            "conv2d_7 (Conv2D)            (None, 72, 72, 32)        4640      \n",
            "_________________________________________________________________\n",
            "max_pooling2d_7 (MaxPooling2 (None, 36, 36, 32)        0         \n",
            "_________________________________________________________________\n",
            "conv2d_8 (Conv2D)            (None, 34, 34, 32)        9248      \n",
            "_________________________________________________________________\n",
            "max_pooling2d_8 (MaxPooling2 (None, 17, 17, 32)        0         \n",
            "_________________________________________________________________\n",
            "flatten_2 (Flatten)          (None, 9248)              0         \n",
            "_________________________________________________________________\n",
            "dropout_2 (Dropout)          (None, 9248)              0         \n",
            "_________________________________________________________________\n",
            "dense_6 (Dense)              (None, 128)               1183872   \n",
            "_________________________________________________________________\n",
            "dense_7 (Dense)              (None, 512)               66048     \n",
            "_________________________________________________________________\n",
            "dense_8 (Dense)              (None, 3)                 1539      \n",
            "=================================================================\n",
            "Total params: 1,265,795\n",
            "Trainable params: 1,265,795\n",
            "Non-trainable params: 0\n",
            "_________________________________________________________________\n"
          ],
          "name": "stdout"
        }
      ]
    },
    {
      "cell_type": "code",
      "metadata": {
        "id": "Zdmh0Ik3qe91"
      },
      "source": [
        "#komilasi\n",
        "model.compile(loss = 'categorical_crossentropy',\n",
        "              optimizer = 'adam',\n",
        "              metrics=['accuracy'])"
      ],
      "execution_count": 25,
      "outputs": []
    },
    {
      "cell_type": "code",
      "metadata": {
        "colab": {
          "base_uri": "https://localhost:8080/"
        },
        "id": "x1YtrQdlqgU6",
        "outputId": "c701abe1-982b-4d82-a53e-5fe998808838"
      },
      "source": [
        "#Melatih CNN\n",
        "history=model.fit(\n",
        "    train_generator,\n",
        "    steps_per_epoch=4,\n",
        "    epochs=100,\n",
        "    validation_data=validation_generator,\n",
        "    validation_steps=4,\n",
        "    verbose=2\n",
        ")"
      ],
      "execution_count": 26,
      "outputs": [
        {
          "output_type": "stream",
          "text": [
            "Epoch 1/100\n",
            "4/4 - 6s - loss: 1.1323 - accuracy: 0.2969 - val_loss: 1.1012 - val_accuracy: 0.3516\n",
            "Epoch 2/100\n",
            "4/4 - 5s - loss: 1.1045 - accuracy: 0.3203 - val_loss: 1.1106 - val_accuracy: 0.2969\n",
            "Epoch 3/100\n",
            "4/4 - 5s - loss: 1.0960 - accuracy: 0.3672 - val_loss: 1.1030 - val_accuracy: 0.2734\n",
            "Epoch 4/100\n",
            "4/4 - 5s - loss: 1.0896 - accuracy: 0.3906 - val_loss: 1.1326 - val_accuracy: 0.2578\n",
            "Epoch 5/100\n",
            "4/4 - 5s - loss: 1.1099 - accuracy: 0.3594 - val_loss: 1.0967 - val_accuracy: 0.3672\n",
            "Epoch 6/100\n",
            "4/4 - 4s - loss: 1.1011 - accuracy: 0.3265 - val_loss: 1.1067 - val_accuracy: 0.2969\n",
            "Epoch 7/100\n",
            "4/4 - 5s - loss: 1.1016 - accuracy: 0.2656 - val_loss: 1.0938 - val_accuracy: 0.3594\n",
            "Epoch 8/100\n",
            "4/4 - 5s - loss: 1.1000 - accuracy: 0.2812 - val_loss: 1.0909 - val_accuracy: 0.4766\n",
            "Epoch 9/100\n",
            "4/4 - 5s - loss: 1.0923 - accuracy: 0.3984 - val_loss: 1.0824 - val_accuracy: 0.4062\n",
            "Epoch 10/100\n",
            "4/4 - 5s - loss: 1.0865 - accuracy: 0.3516 - val_loss: 1.0685 - val_accuracy: 0.4297\n",
            "Epoch 11/100\n",
            "4/4 - 5s - loss: 1.0690 - accuracy: 0.3672 - val_loss: 1.0525 - val_accuracy: 0.4141\n",
            "Epoch 12/100\n",
            "4/4 - 5s - loss: 1.0336 - accuracy: 0.5000 - val_loss: 0.9895 - val_accuracy: 0.4688\n",
            "Epoch 13/100\n",
            "4/4 - 5s - loss: 0.9805 - accuracy: 0.4609 - val_loss: 1.0353 - val_accuracy: 0.4844\n",
            "Epoch 14/100\n",
            "4/4 - 5s - loss: 1.0575 - accuracy: 0.4531 - val_loss: 1.0174 - val_accuracy: 0.5156\n",
            "Epoch 15/100\n",
            "4/4 - 5s - loss: 1.0727 - accuracy: 0.3906 - val_loss: 1.0246 - val_accuracy: 0.5156\n",
            "Epoch 16/100\n",
            "4/4 - 5s - loss: 1.0207 - accuracy: 0.4141 - val_loss: 1.0206 - val_accuracy: 0.4141\n",
            "Epoch 17/100\n",
            "4/4 - 5s - loss: 1.0060 - accuracy: 0.5078 - val_loss: 1.0147 - val_accuracy: 0.5312\n",
            "Epoch 18/100\n",
            "4/4 - 5s - loss: 0.9712 - accuracy: 0.5078 - val_loss: 0.9900 - val_accuracy: 0.5156\n",
            "Epoch 19/100\n",
            "4/4 - 5s - loss: 0.9633 - accuracy: 0.5000 - val_loss: 0.9505 - val_accuracy: 0.5938\n",
            "Epoch 20/100\n",
            "4/4 - 4s - loss: 0.9312 - accuracy: 0.6020 - val_loss: 0.8219 - val_accuracy: 0.6406\n",
            "Epoch 21/100\n",
            "4/4 - 5s - loss: 0.9750 - accuracy: 0.4688 - val_loss: 1.1262 - val_accuracy: 0.4766\n",
            "Epoch 22/100\n",
            "4/4 - 4s - loss: 1.0648 - accuracy: 0.5000 - val_loss: 1.1118 - val_accuracy: 0.4062\n",
            "Epoch 23/100\n",
            "4/4 - 5s - loss: 0.9964 - accuracy: 0.4922 - val_loss: 1.1227 - val_accuracy: 0.3750\n",
            "Epoch 24/100\n",
            "4/4 - 5s - loss: 1.0618 - accuracy: 0.5078 - val_loss: 0.9370 - val_accuracy: 0.6094\n",
            "Epoch 25/100\n",
            "4/4 - 5s - loss: 0.8991 - accuracy: 0.6484 - val_loss: 0.9320 - val_accuracy: 0.5000\n",
            "Epoch 26/100\n",
            "4/4 - 5s - loss: 0.9536 - accuracy: 0.5156 - val_loss: 0.9128 - val_accuracy: 0.6250\n",
            "Epoch 27/100\n",
            "4/4 - 5s - loss: 0.8895 - accuracy: 0.6328 - val_loss: 0.7719 - val_accuracy: 0.6641\n",
            "Epoch 28/100\n",
            "4/4 - 5s - loss: 0.8873 - accuracy: 0.5703 - val_loss: 0.7017 - val_accuracy: 0.7188\n",
            "Epoch 29/100\n",
            "4/4 - 5s - loss: 0.7883 - accuracy: 0.6484 - val_loss: 0.7534 - val_accuracy: 0.7188\n",
            "Epoch 30/100\n",
            "4/4 - 5s - loss: 0.8153 - accuracy: 0.6172 - val_loss: 0.7144 - val_accuracy: 0.7031\n",
            "Epoch 31/100\n",
            "4/4 - 5s - loss: 0.6522 - accuracy: 0.7266 - val_loss: 0.8664 - val_accuracy: 0.6406\n",
            "Epoch 32/100\n",
            "4/4 - 4s - loss: 0.6866 - accuracy: 0.7143 - val_loss: 0.6745 - val_accuracy: 0.7109\n",
            "Epoch 33/100\n",
            "4/4 - 5s - loss: 0.7252 - accuracy: 0.7109 - val_loss: 0.7849 - val_accuracy: 0.6875\n",
            "Epoch 34/100\n",
            "4/4 - 5s - loss: 0.7064 - accuracy: 0.7188 - val_loss: 0.6634 - val_accuracy: 0.6641\n",
            "Epoch 35/100\n",
            "4/4 - 5s - loss: 0.7440 - accuracy: 0.6875 - val_loss: 0.6574 - val_accuracy: 0.7344\n",
            "Epoch 36/100\n",
            "4/4 - 5s - loss: 0.7862 - accuracy: 0.6562 - val_loss: 0.6273 - val_accuracy: 0.7656\n",
            "Epoch 37/100\n",
            "4/4 - 5s - loss: 0.7615 - accuracy: 0.6875 - val_loss: 0.6942 - val_accuracy: 0.7656\n",
            "Epoch 38/100\n",
            "4/4 - 5s - loss: 0.6352 - accuracy: 0.7656 - val_loss: 0.7255 - val_accuracy: 0.7344\n",
            "Epoch 39/100\n",
            "4/4 - 5s - loss: 0.7567 - accuracy: 0.7031 - val_loss: 0.6040 - val_accuracy: 0.7891\n",
            "Epoch 40/100\n",
            "4/4 - 5s - loss: 0.6329 - accuracy: 0.7656 - val_loss: 0.7397 - val_accuracy: 0.7031\n",
            "Epoch 41/100\n",
            "4/4 - 5s - loss: 0.5923 - accuracy: 0.7578 - val_loss: 0.6331 - val_accuracy: 0.7031\n",
            "Epoch 42/100\n",
            "4/4 - 5s - loss: 0.5342 - accuracy: 0.7656 - val_loss: 0.8093 - val_accuracy: 0.7188\n",
            "Epoch 43/100\n",
            "4/4 - 5s - loss: 0.5988 - accuracy: 0.7656 - val_loss: 0.6671 - val_accuracy: 0.7031\n",
            "Epoch 44/100\n",
            "4/4 - 5s - loss: 0.5877 - accuracy: 0.7578 - val_loss: 0.6454 - val_accuracy: 0.7969\n",
            "Epoch 45/100\n",
            "4/4 - 4s - loss: 0.5530 - accuracy: 0.7959 - val_loss: 1.1078 - val_accuracy: 0.5312\n",
            "Epoch 46/100\n",
            "4/4 - 5s - loss: 0.8179 - accuracy: 0.6406 - val_loss: 0.6980 - val_accuracy: 0.6797\n",
            "Epoch 47/100\n",
            "4/4 - 5s - loss: 0.6775 - accuracy: 0.7266 - val_loss: 0.5610 - val_accuracy: 0.7891\n",
            "Epoch 48/100\n",
            "4/4 - 4s - loss: 0.7518 - accuracy: 0.6327 - val_loss: 0.7823 - val_accuracy: 0.6406\n",
            "Epoch 49/100\n",
            "4/4 - 5s - loss: 0.7938 - accuracy: 0.6641 - val_loss: 0.6128 - val_accuracy: 0.7969\n",
            "Epoch 50/100\n",
            "4/4 - 5s - loss: 0.6807 - accuracy: 0.6953 - val_loss: 0.6036 - val_accuracy: 0.7656\n",
            "Epoch 51/100\n",
            "4/4 - 5s - loss: 0.6449 - accuracy: 0.7109 - val_loss: 0.5356 - val_accuracy: 0.7812\n",
            "Epoch 52/100\n",
            "4/4 - 5s - loss: 0.6670 - accuracy: 0.7266 - val_loss: 0.5851 - val_accuracy: 0.7500\n",
            "Epoch 53/100\n",
            "4/4 - 5s - loss: 0.4735 - accuracy: 0.8516 - val_loss: 0.6292 - val_accuracy: 0.8047\n",
            "Epoch 54/100\n",
            "4/4 - 4s - loss: 0.5359 - accuracy: 0.8163 - val_loss: 0.5632 - val_accuracy: 0.7969\n",
            "Epoch 55/100\n",
            "4/4 - 5s - loss: 0.5301 - accuracy: 0.7812 - val_loss: 0.7016 - val_accuracy: 0.7266\n",
            "Epoch 56/100\n",
            "4/4 - 5s - loss: 0.6206 - accuracy: 0.7109 - val_loss: 0.5135 - val_accuracy: 0.7891\n",
            "Epoch 57/100\n",
            "4/4 - 5s - loss: 0.6706 - accuracy: 0.7266 - val_loss: 0.6420 - val_accuracy: 0.7500\n",
            "Epoch 58/100\n",
            "4/4 - 5s - loss: 0.7094 - accuracy: 0.7266 - val_loss: 0.5929 - val_accuracy: 0.7656\n",
            "Epoch 59/100\n",
            "4/4 - 5s - loss: 0.5124 - accuracy: 0.8125 - val_loss: 0.5473 - val_accuracy: 0.7812\n",
            "Epoch 60/100\n",
            "4/4 - 5s - loss: 0.5467 - accuracy: 0.7578 - val_loss: 0.6175 - val_accuracy: 0.7422\n",
            "Epoch 61/100\n",
            "4/4 - 5s - loss: 0.4812 - accuracy: 0.7969 - val_loss: 0.5870 - val_accuracy: 0.7578\n",
            "Epoch 62/100\n",
            "4/4 - 5s - loss: 0.6110 - accuracy: 0.7734 - val_loss: 0.5465 - val_accuracy: 0.7891\n",
            "Epoch 63/100\n",
            "4/4 - 5s - loss: 0.5276 - accuracy: 0.7656 - val_loss: 0.4598 - val_accuracy: 0.8438\n",
            "Epoch 64/100\n",
            "4/4 - 5s - loss: 0.5218 - accuracy: 0.8125 - val_loss: 0.5688 - val_accuracy: 0.7422\n",
            "Epoch 65/100\n",
            "4/4 - 5s - loss: 0.4997 - accuracy: 0.8047 - val_loss: 0.5318 - val_accuracy: 0.7812\n",
            "Epoch 66/100\n",
            "4/4 - 5s - loss: 0.4987 - accuracy: 0.7891 - val_loss: 0.4737 - val_accuracy: 0.8594\n",
            "Epoch 67/100\n",
            "4/4 - 5s - loss: 0.5682 - accuracy: 0.7891 - val_loss: 0.5367 - val_accuracy: 0.7266\n",
            "Epoch 68/100\n",
            "4/4 - 5s - loss: 0.5190 - accuracy: 0.8281 - val_loss: 0.6393 - val_accuracy: 0.6797\n",
            "Epoch 69/100\n",
            "4/4 - 5s - loss: 0.5766 - accuracy: 0.7266 - val_loss: 0.5837 - val_accuracy: 0.7891\n",
            "Epoch 70/100\n",
            "4/4 - 5s - loss: 0.5947 - accuracy: 0.7109 - val_loss: 0.5184 - val_accuracy: 0.7891\n",
            "Epoch 71/100\n",
            "4/4 - 4s - loss: 0.4607 - accuracy: 0.7959 - val_loss: 0.4925 - val_accuracy: 0.8516\n",
            "Epoch 72/100\n",
            "4/4 - 5s - loss: 0.5185 - accuracy: 0.8047 - val_loss: 0.4763 - val_accuracy: 0.7969\n",
            "Epoch 73/100\n",
            "4/4 - 5s - loss: 0.3624 - accuracy: 0.8594 - val_loss: 0.3401 - val_accuracy: 0.8750\n",
            "Epoch 74/100\n",
            "4/4 - 5s - loss: 0.5569 - accuracy: 0.8359 - val_loss: 0.5422 - val_accuracy: 0.8047\n",
            "Epoch 75/100\n",
            "4/4 - 5s - loss: 0.4586 - accuracy: 0.7969 - val_loss: 0.5223 - val_accuracy: 0.7734\n",
            "Epoch 76/100\n",
            "4/4 - 5s - loss: 0.4666 - accuracy: 0.8281 - val_loss: 0.5003 - val_accuracy: 0.8281\n",
            "Epoch 77/100\n",
            "4/4 - 5s - loss: 0.4959 - accuracy: 0.7656 - val_loss: 0.5586 - val_accuracy: 0.8203\n",
            "Epoch 78/100\n",
            "4/4 - 5s - loss: 0.5226 - accuracy: 0.7969 - val_loss: 0.4384 - val_accuracy: 0.8594\n",
            "Epoch 79/100\n",
            "4/4 - 5s - loss: 0.4693 - accuracy: 0.8203 - val_loss: 0.3941 - val_accuracy: 0.8750\n",
            "Epoch 80/100\n",
            "4/4 - 5s - loss: 0.4300 - accuracy: 0.8750 - val_loss: 0.4642 - val_accuracy: 0.8203\n",
            "Epoch 81/100\n",
            "4/4 - 5s - loss: 0.3852 - accuracy: 0.8672 - val_loss: 0.3291 - val_accuracy: 0.8906\n",
            "Epoch 82/100\n",
            "4/4 - 4s - loss: 0.4670 - accuracy: 0.8061 - val_loss: 0.3979 - val_accuracy: 0.8281\n",
            "Epoch 83/100\n",
            "4/4 - 5s - loss: 0.6087 - accuracy: 0.7422 - val_loss: 0.4584 - val_accuracy: 0.7734\n",
            "Epoch 84/100\n",
            "4/4 - 5s - loss: 0.5496 - accuracy: 0.7812 - val_loss: 0.5321 - val_accuracy: 0.7734\n",
            "Epoch 85/100\n",
            "4/4 - 5s - loss: 0.4936 - accuracy: 0.8203 - val_loss: 0.3480 - val_accuracy: 0.9062\n",
            "Epoch 86/100\n",
            "4/4 - 5s - loss: 0.4795 - accuracy: 0.8281 - val_loss: 0.4226 - val_accuracy: 0.8359\n",
            "Epoch 87/100\n",
            "4/4 - 5s - loss: 0.6522 - accuracy: 0.7109 - val_loss: 0.3485 - val_accuracy: 0.9062\n",
            "Epoch 88/100\n",
            "4/4 - 4s - loss: 0.3932 - accuracy: 0.8163 - val_loss: 0.4603 - val_accuracy: 0.8047\n",
            "Epoch 89/100\n",
            "4/4 - 5s - loss: 0.4790 - accuracy: 0.8125 - val_loss: 0.3887 - val_accuracy: 0.8828\n",
            "Epoch 90/100\n",
            "4/4 - 4s - loss: 0.3755 - accuracy: 0.8469 - val_loss: 0.3024 - val_accuracy: 0.9219\n",
            "Epoch 91/100\n",
            "4/4 - 5s - loss: 0.3740 - accuracy: 0.8828 - val_loss: 0.3658 - val_accuracy: 0.8906\n",
            "Epoch 92/100\n",
            "4/4 - 5s - loss: 0.4178 - accuracy: 0.8516 - val_loss: 0.2731 - val_accuracy: 0.9141\n",
            "Epoch 93/100\n",
            "4/4 - 4s - loss: 0.4343 - accuracy: 0.8469 - val_loss: 0.6937 - val_accuracy: 0.7344\n",
            "Epoch 94/100\n",
            "4/4 - 5s - loss: 0.4309 - accuracy: 0.8438 - val_loss: 0.4715 - val_accuracy: 0.8203\n",
            "Epoch 95/100\n",
            "4/4 - 5s - loss: 0.4207 - accuracy: 0.8203 - val_loss: 0.4003 - val_accuracy: 0.8281\n",
            "Epoch 96/100\n",
            "4/4 - 5s - loss: 0.4794 - accuracy: 0.7891 - val_loss: 0.4610 - val_accuracy: 0.7969\n",
            "Epoch 97/100\n",
            "4/4 - 5s - loss: 0.4587 - accuracy: 0.8359 - val_loss: 0.3904 - val_accuracy: 0.8516\n",
            "Epoch 98/100\n",
            "4/4 - 5s - loss: 0.4879 - accuracy: 0.7734 - val_loss: 0.2399 - val_accuracy: 0.9141\n",
            "Epoch 99/100\n",
            "4/4 - 5s - loss: 0.3544 - accuracy: 0.8750 - val_loss: 0.2522 - val_accuracy: 0.9141\n",
            "Epoch 100/100\n",
            "4/4 - 4s - loss: 0.3896 - accuracy: 0.8776 - val_loss: 0.1466 - val_accuracy: 0.9688\n"
          ],
          "name": "stdout"
        }
      ]
    },
    {
      "cell_type": "code",
      "metadata": {
        "colab": {
          "resources": {
            "http://localhost:8080/nbextensions/google.colab/files.js": {
              "data": "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",
              "ok": true,
              "headers": [
                [
                  "content-type",
                  "application/javascript"
                ]
              ],
              "status": 200,
              "status_text": ""
            }
          },
          "base_uri": "https://localhost:8080/",
          "height": 359
        },
        "id": "nDsGmcUVvY3t",
        "outputId": "fa110901-5d72-4933-dbc9-76190da32aec"
      },
      "source": [
        "import numpy as np\n",
        "from google.colab import files\n",
        "from keras.preprocessing import image\n",
        "import matplotlib.pyplot as plt\n",
        "\n",
        "uploaded = files.upload()\n",
        "for fn in uploaded.keys():\n",
        "  path = fn\n",
        "  img = image.load_img(path, target_size=(150,150))\n",
        "  imgplot = plt.imshow(img)\n",
        "  x = image.img_to_array(img)\n",
        "  x = np.expand_dims(x, axis=0)\n",
        "\n",
        "  images = np.vstack([x])\n",
        "  classes = model.predict(images, batch_size=10)\n",
        "  print(fn)\n",
        "  if classes[0][0]==1:\n",
        "    print('Tangan Ini adalah bentuk KERTAS')                                \n",
        "  elif classes[0][1]==1:\n",
        "    print('Tangan Ini adalah bentuk BATU')                                 \n",
        "  elif classes[0][2]==1:\n",
        "    print('Tangan Ini adalah bentuk GUNTING')                              \n",
        "  else:\n",
        "    print('Maaf, Tidak Diketahui')                                                    "
      ],
      "execution_count": 30,
      "outputs": [
        {
          "output_type": "display_data",
          "data": {
            "text/html": [
              "\n",
              "     <input type=\"file\" id=\"files-de8171e6-0826-4c4d-8d29-f9a600127d8f\" name=\"files[]\" multiple disabled\n",
              "        style=\"border:none\" />\n",
              "     <output id=\"result-de8171e6-0826-4c4d-8d29-f9a600127d8f\">\n",
              "      Upload widget is only available when the cell has been executed in the\n",
              "      current browser session. Please rerun this cell to enable.\n",
              "      </output>\n",
              "      <script src=\"/nbextensions/google.colab/files.js\"></script> "
            ],
            "text/plain": [
              "<IPython.core.display.HTML object>"
            ]
          },
          "metadata": {
            "tags": []
          }
        },
        {
          "output_type": "stream",
          "text": [
            "Saving DpuTr8KvePPqWO5Q.png to DpuTr8KvePPqWO5Q.png\n",
            "DpuTr8KvePPqWO5Q.png\n",
            "Tangan Ini adalah bentuk GUNTING\n"
          ],
          "name": "stdout"
        },
        {
          "output_type": "display_data",
          "data": {
            "image/png": "[encoded data removed]",
            "text/plain": [
              "<Figure size 432x288 with 1 Axes>"
            ]
          },
          "metadata": {
            "tags": [],
            "needs_background": "light"
          }
        }
      ]
    }
  ]
}